{
 "cells": [
  {
   "cell_type": "markdown",
   "id": "558beca6",
   "metadata": {},
   "source": [
    "#### Description of dataset "
   ]
  },
  {
   "cell_type": "markdown",
   "id": "305bc1a4",
   "metadata": {},
   "source": [
    "In this project I will be analyzing data associated with patients and their hospital appointments.I will be interested in finding trends betweeen patients who show up for their appointments and patients who do not.The No-show appointments database  contains information collected from over 100 thousand medical appointments in Brazil and its main focus is to show whther or not patients showed up for their appointments. The dataset contains information on a number of characteristics in rows.The data has 14 columns which are \n",
    " 1. PatientID: which shows the id of the patient in question \n",
    " 2. AppointmentID : which shows the id of the appointment the patient made 3. Gender: The sex of the patient which could be male or female\n",
    "\n",
    " 4. ScheduledDay:The date the appointment was scheduled \n",
    " 5. AppointmentDay : The date and time of the scheduled appointment \n",
    " 6. Age: The age of the patient \n",
    " 7. Neighbourhood: Where the appointment takes place  \n",
    " 8. Scholarship: shows whether the customer is on the Bolsa Familia social welfare page or not \n",
    " 9. Hipertension: If the customer has a history of hipertension \n",
    " 10. Diabetes: If the customer is Diabetic \n",
    " 11. Alcoholism: If the customer is an abuser of alcohol \n",
    " 12. Handcap: Shows whether the patient is handicap or not\n",
    " 13. SMS received: Shows if the patients received an sms notification of the appointment \n",
    " 14. NO Show: this shows if the patients didnt show for their appointment or did "
   ]
  },
  {
   "cell_type": "markdown",
   "id": "77900f7b",
   "metadata": {},
   "source": [
    "### Questions for analysis \n",
    " 1. is scholarship a reason why a patient will not honour an appointment \n",
    " 2. are patients with underlying sickenesses more likely to honour appointments \n",
    " 3. is the age of the patient a factor in whether or not they will honour the appointment \n",
    " 4. If the patients who received sms notification honoured more \n",
    " 5. wher the apointment takes place could also be a factor "
   ]
  },
  {
   "cell_type": "code",
   "execution_count": 4,
   "id": "0c7cf31b",
   "metadata": {},
   "outputs": [],
   "source": [
    "import pandas as pd \n",
    "import matplotlib.pyplot as plt\n",
    "import seaborn as sns\n",
    "import numpy as np \n",
    "%matplotlib inline  \n",
    "df = pd.read_csv('noshowappointments-kagglev2-may-2016.csv')"
   ]
  },
  {
   "cell_type": "code",
   "execution_count": 5,
   "id": "a46ddc09",
   "metadata": {},
   "outputs": [
    {
     "data": {
      "text/html": [
       "<div>\n",
       "<style scoped>\n",
       "    .dataframe tbody tr th:only-of-type {\n",
       "        vertical-align: middle;\n",
       "    }\n",
       "\n",
       "    .dataframe tbody tr th {\n",
       "        vertical-align: top;\n",
       "    }\n",
       "\n",
       "    .dataframe thead th {\n",
       "        text-align: right;\n",
       "    }\n",
       "</style>\n",
       "<table border=\"1\" class=\"dataframe\">\n",
       "  <thead>\n",
       "    <tr style=\"text-align: right;\">\n",
       "      <th></th>\n",
       "      <th>PatientId</th>\n",
       "      <th>AppointmentID</th>\n",
       "      <th>Gender</th>\n",
       "      <th>ScheduledDay</th>\n",
       "      <th>AppointmentDay</th>\n",
       "      <th>Age</th>\n",
       "      <th>Neighbourhood</th>\n",
       "      <th>Scholarship</th>\n",
       "      <th>Hipertension</th>\n",
       "      <th>Diabetes</th>\n",
       "      <th>Alcoholism</th>\n",
       "      <th>Handcap</th>\n",
       "      <th>SMS_received</th>\n",
       "      <th>No-show</th>\n",
       "    </tr>\n",
       "  </thead>\n",
       "  <tbody>\n",
       "    <tr>\n",
       "      <th>0</th>\n",
       "      <td>2.987250e+13</td>\n",
       "      <td>5642903</td>\n",
       "      <td>F</td>\n",
       "      <td>2016-04-29T18:38:08Z</td>\n",
       "      <td>2016-04-29T00:00:00Z</td>\n",
       "      <td>62</td>\n",
       "      <td>JARDIM DA PENHA</td>\n",
       "      <td>0</td>\n",
       "      <td>1</td>\n",
       "      <td>0</td>\n",
       "      <td>0</td>\n",
       "      <td>0</td>\n",
       "      <td>0</td>\n",
       "      <td>No</td>\n",
       "    </tr>\n",
       "    <tr>\n",
       "      <th>1</th>\n",
       "      <td>5.589978e+14</td>\n",
       "      <td>5642503</td>\n",
       "      <td>M</td>\n",
       "      <td>2016-04-29T16:08:27Z</td>\n",
       "      <td>2016-04-29T00:00:00Z</td>\n",
       "      <td>56</td>\n",
       "      <td>JARDIM DA PENHA</td>\n",
       "      <td>0</td>\n",
       "      <td>0</td>\n",
       "      <td>0</td>\n",
       "      <td>0</td>\n",
       "      <td>0</td>\n",
       "      <td>0</td>\n",
       "      <td>No</td>\n",
       "    </tr>\n",
       "    <tr>\n",
       "      <th>2</th>\n",
       "      <td>4.262962e+12</td>\n",
       "      <td>5642549</td>\n",
       "      <td>F</td>\n",
       "      <td>2016-04-29T16:19:04Z</td>\n",
       "      <td>2016-04-29T00:00:00Z</td>\n",
       "      <td>62</td>\n",
       "      <td>MATA DA PRAIA</td>\n",
       "      <td>0</td>\n",
       "      <td>0</td>\n",
       "      <td>0</td>\n",
       "      <td>0</td>\n",
       "      <td>0</td>\n",
       "      <td>0</td>\n",
       "      <td>No</td>\n",
       "    </tr>\n",
       "    <tr>\n",
       "      <th>3</th>\n",
       "      <td>8.679512e+11</td>\n",
       "      <td>5642828</td>\n",
       "      <td>F</td>\n",
       "      <td>2016-04-29T17:29:31Z</td>\n",
       "      <td>2016-04-29T00:00:00Z</td>\n",
       "      <td>8</td>\n",
       "      <td>PONTAL DE CAMBURI</td>\n",
       "      <td>0</td>\n",
       "      <td>0</td>\n",
       "      <td>0</td>\n",
       "      <td>0</td>\n",
       "      <td>0</td>\n",
       "      <td>0</td>\n",
       "      <td>No</td>\n",
       "    </tr>\n",
       "    <tr>\n",
       "      <th>4</th>\n",
       "      <td>8.841186e+12</td>\n",
       "      <td>5642494</td>\n",
       "      <td>F</td>\n",
       "      <td>2016-04-29T16:07:23Z</td>\n",
       "      <td>2016-04-29T00:00:00Z</td>\n",
       "      <td>56</td>\n",
       "      <td>JARDIM DA PENHA</td>\n",
       "      <td>0</td>\n",
       "      <td>1</td>\n",
       "      <td>1</td>\n",
       "      <td>0</td>\n",
       "      <td>0</td>\n",
       "      <td>0</td>\n",
       "      <td>No</td>\n",
       "    </tr>\n",
       "  </tbody>\n",
       "</table>\n",
       "</div>"
      ],
      "text/plain": [
       "      PatientId  AppointmentID Gender          ScheduledDay  \\\n",
       "0  2.987250e+13        5642903      F  2016-04-29T18:38:08Z   \n",
       "1  5.589978e+14        5642503      M  2016-04-29T16:08:27Z   \n",
       "2  4.262962e+12        5642549      F  2016-04-29T16:19:04Z   \n",
       "3  8.679512e+11        5642828      F  2016-04-29T17:29:31Z   \n",
       "4  8.841186e+12        5642494      F  2016-04-29T16:07:23Z   \n",
       "\n",
       "         AppointmentDay  Age      Neighbourhood  Scholarship  Hipertension  \\\n",
       "0  2016-04-29T00:00:00Z   62    JARDIM DA PENHA            0             1   \n",
       "1  2016-04-29T00:00:00Z   56    JARDIM DA PENHA            0             0   \n",
       "2  2016-04-29T00:00:00Z   62      MATA DA PRAIA            0             0   \n",
       "3  2016-04-29T00:00:00Z    8  PONTAL DE CAMBURI            0             0   \n",
       "4  2016-04-29T00:00:00Z   56    JARDIM DA PENHA            0             1   \n",
       "\n",
       "   Diabetes  Alcoholism  Handcap  SMS_received No-show  \n",
       "0         0           0        0             0      No  \n",
       "1         0           0        0             0      No  \n",
       "2         0           0        0             0      No  \n",
       "3         0           0        0             0      No  \n",
       "4         1           0        0             0      No  "
      ]
     },
     "execution_count": 5,
     "metadata": {},
     "output_type": "execute_result"
    }
   ],
   "source": [
    "df.head()"
   ]
  },
  {
   "cell_type": "markdown",
   "id": "ea2a2869",
   "metadata": {},
   "source": [
    "From the questions in the analysis section i will not need columns like PatientId , AppointmentID, ScheduledDay, AppoinmentDay in my analysis so i will drop these columns. but since these colums serve as markers i will check for duplicates first before dropping them  "
   ]
  },
  {
   "cell_type": "code",
   "execution_count": 6,
   "id": "04ea8725",
   "metadata": {},
   "outputs": [
    {
     "name": "stdout",
     "output_type": "stream",
     "text": [
      "0\n"
     ]
    }
   ],
   "source": [
    "print(df.duplicated().sum())"
   ]
  },
  {
   "cell_type": "markdown",
   "id": "a8c593ed",
   "metadata": {},
   "source": [
    "since there are no duplicated colums from the oridinal dataset i will go ahead and drop the colummns "
   ]
  },
  {
   "cell_type": "code",
   "execution_count": 7,
   "id": "c096ef23",
   "metadata": {},
   "outputs": [],
   "source": [
    "df.drop(['PatientId','AppointmentID','ScheduledDay', 'AppointmentDay'], axis=1, inplace = True)"
   ]
  },
  {
   "cell_type": "code",
   "execution_count": 8,
   "id": "484d195a",
   "metadata": {},
   "outputs": [
    {
     "data": {
      "text/html": [
       "<div>\n",
       "<style scoped>\n",
       "    .dataframe tbody tr th:only-of-type {\n",
       "        vertical-align: middle;\n",
       "    }\n",
       "\n",
       "    .dataframe tbody tr th {\n",
       "        vertical-align: top;\n",
       "    }\n",
       "\n",
       "    .dataframe thead th {\n",
       "        text-align: right;\n",
       "    }\n",
       "</style>\n",
       "<table border=\"1\" class=\"dataframe\">\n",
       "  <thead>\n",
       "    <tr style=\"text-align: right;\">\n",
       "      <th></th>\n",
       "      <th>Gender</th>\n",
       "      <th>Age</th>\n",
       "      <th>Neighbourhood</th>\n",
       "      <th>Scholarship</th>\n",
       "      <th>Hipertension</th>\n",
       "      <th>Diabetes</th>\n",
       "      <th>Alcoholism</th>\n",
       "      <th>Handcap</th>\n",
       "      <th>SMS_received</th>\n",
       "      <th>No-show</th>\n",
       "    </tr>\n",
       "  </thead>\n",
       "  <tbody>\n",
       "    <tr>\n",
       "      <th>0</th>\n",
       "      <td>F</td>\n",
       "      <td>62</td>\n",
       "      <td>JARDIM DA PENHA</td>\n",
       "      <td>0</td>\n",
       "      <td>1</td>\n",
       "      <td>0</td>\n",
       "      <td>0</td>\n",
       "      <td>0</td>\n",
       "      <td>0</td>\n",
       "      <td>No</td>\n",
       "    </tr>\n",
       "    <tr>\n",
       "      <th>1</th>\n",
       "      <td>M</td>\n",
       "      <td>56</td>\n",
       "      <td>JARDIM DA PENHA</td>\n",
       "      <td>0</td>\n",
       "      <td>0</td>\n",
       "      <td>0</td>\n",
       "      <td>0</td>\n",
       "      <td>0</td>\n",
       "      <td>0</td>\n",
       "      <td>No</td>\n",
       "    </tr>\n",
       "    <tr>\n",
       "      <th>2</th>\n",
       "      <td>F</td>\n",
       "      <td>62</td>\n",
       "      <td>MATA DA PRAIA</td>\n",
       "      <td>0</td>\n",
       "      <td>0</td>\n",
       "      <td>0</td>\n",
       "      <td>0</td>\n",
       "      <td>0</td>\n",
       "      <td>0</td>\n",
       "      <td>No</td>\n",
       "    </tr>\n",
       "    <tr>\n",
       "      <th>3</th>\n",
       "      <td>F</td>\n",
       "      <td>8</td>\n",
       "      <td>PONTAL DE CAMBURI</td>\n",
       "      <td>0</td>\n",
       "      <td>0</td>\n",
       "      <td>0</td>\n",
       "      <td>0</td>\n",
       "      <td>0</td>\n",
       "      <td>0</td>\n",
       "      <td>No</td>\n",
       "    </tr>\n",
       "    <tr>\n",
       "      <th>4</th>\n",
       "      <td>F</td>\n",
       "      <td>56</td>\n",
       "      <td>JARDIM DA PENHA</td>\n",
       "      <td>0</td>\n",
       "      <td>1</td>\n",
       "      <td>1</td>\n",
       "      <td>0</td>\n",
       "      <td>0</td>\n",
       "      <td>0</td>\n",
       "      <td>No</td>\n",
       "    </tr>\n",
       "  </tbody>\n",
       "</table>\n",
       "</div>"
      ],
      "text/plain": [
       "  Gender  Age      Neighbourhood  Scholarship  Hipertension  Diabetes  \\\n",
       "0      F   62    JARDIM DA PENHA            0             1         0   \n",
       "1      M   56    JARDIM DA PENHA            0             0         0   \n",
       "2      F   62      MATA DA PRAIA            0             0         0   \n",
       "3      F    8  PONTAL DE CAMBURI            0             0         0   \n",
       "4      F   56    JARDIM DA PENHA            0             1         1   \n",
       "\n",
       "   Alcoholism  Handcap  SMS_received No-show  \n",
       "0           0        0             0      No  \n",
       "1           0        0             0      No  \n",
       "2           0        0             0      No  \n",
       "3           0        0             0      No  \n",
       "4           0        0             0      No  "
      ]
     },
     "execution_count": 8,
     "metadata": {},
     "output_type": "execute_result"
    }
   ],
   "source": [
    "df.head()"
   ]
  },
  {
   "cell_type": "code",
   "execution_count": 9,
   "id": "1a5bef55",
   "metadata": {},
   "outputs": [
    {
     "name": "stdout",
     "output_type": "stream",
     "text": [
      "<class 'pandas.core.frame.DataFrame'>\n",
      "RangeIndex: 110527 entries, 0 to 110526\n",
      "Data columns (total 10 columns):\n",
      " #   Column         Non-Null Count   Dtype \n",
      "---  ------         --------------   ----- \n",
      " 0   Gender         110527 non-null  object\n",
      " 1   Age            110527 non-null  int64 \n",
      " 2   Neighbourhood  110527 non-null  object\n",
      " 3   Scholarship    110527 non-null  int64 \n",
      " 4   Hipertension   110527 non-null  int64 \n",
      " 5   Diabetes       110527 non-null  int64 \n",
      " 6   Alcoholism     110527 non-null  int64 \n",
      " 7   Handcap        110527 non-null  int64 \n",
      " 8   SMS_received   110527 non-null  int64 \n",
      " 9   No-show        110527 non-null  object\n",
      "dtypes: int64(7), object(3)\n",
      "memory usage: 8.4+ MB\n"
     ]
    }
   ],
   "source": [
    "df.info()"
   ]
  },
  {
   "cell_type": "code",
   "execution_count": 10,
   "id": "5fcc81bc",
   "metadata": {},
   "outputs": [
    {
     "data": {
      "text/html": [
       "<div>\n",
       "<style scoped>\n",
       "    .dataframe tbody tr th:only-of-type {\n",
       "        vertical-align: middle;\n",
       "    }\n",
       "\n",
       "    .dataframe tbody tr th {\n",
       "        vertical-align: top;\n",
       "    }\n",
       "\n",
       "    .dataframe thead th {\n",
       "        text-align: right;\n",
       "    }\n",
       "</style>\n",
       "<table border=\"1\" class=\"dataframe\">\n",
       "  <thead>\n",
       "    <tr style=\"text-align: right;\">\n",
       "      <th></th>\n",
       "      <th>Age</th>\n",
       "      <th>Scholarship</th>\n",
       "      <th>Hipertension</th>\n",
       "      <th>Diabetes</th>\n",
       "      <th>Alcoholism</th>\n",
       "      <th>Handcap</th>\n",
       "      <th>SMS_received</th>\n",
       "    </tr>\n",
       "  </thead>\n",
       "  <tbody>\n",
       "    <tr>\n",
       "      <th>count</th>\n",
       "      <td>110527.000000</td>\n",
       "      <td>110527.000000</td>\n",
       "      <td>110527.000000</td>\n",
       "      <td>110527.000000</td>\n",
       "      <td>110527.000000</td>\n",
       "      <td>110527.000000</td>\n",
       "      <td>110527.000000</td>\n",
       "    </tr>\n",
       "    <tr>\n",
       "      <th>mean</th>\n",
       "      <td>37.088874</td>\n",
       "      <td>0.098266</td>\n",
       "      <td>0.197246</td>\n",
       "      <td>0.071865</td>\n",
       "      <td>0.030400</td>\n",
       "      <td>0.022248</td>\n",
       "      <td>0.321026</td>\n",
       "    </tr>\n",
       "    <tr>\n",
       "      <th>std</th>\n",
       "      <td>23.110205</td>\n",
       "      <td>0.297675</td>\n",
       "      <td>0.397921</td>\n",
       "      <td>0.258265</td>\n",
       "      <td>0.171686</td>\n",
       "      <td>0.161543</td>\n",
       "      <td>0.466873</td>\n",
       "    </tr>\n",
       "    <tr>\n",
       "      <th>min</th>\n",
       "      <td>-1.000000</td>\n",
       "      <td>0.000000</td>\n",
       "      <td>0.000000</td>\n",
       "      <td>0.000000</td>\n",
       "      <td>0.000000</td>\n",
       "      <td>0.000000</td>\n",
       "      <td>0.000000</td>\n",
       "    </tr>\n",
       "    <tr>\n",
       "      <th>25%</th>\n",
       "      <td>18.000000</td>\n",
       "      <td>0.000000</td>\n",
       "      <td>0.000000</td>\n",
       "      <td>0.000000</td>\n",
       "      <td>0.000000</td>\n",
       "      <td>0.000000</td>\n",
       "      <td>0.000000</td>\n",
       "    </tr>\n",
       "    <tr>\n",
       "      <th>50%</th>\n",
       "      <td>37.000000</td>\n",
       "      <td>0.000000</td>\n",
       "      <td>0.000000</td>\n",
       "      <td>0.000000</td>\n",
       "      <td>0.000000</td>\n",
       "      <td>0.000000</td>\n",
       "      <td>0.000000</td>\n",
       "    </tr>\n",
       "    <tr>\n",
       "      <th>75%</th>\n",
       "      <td>55.000000</td>\n",
       "      <td>0.000000</td>\n",
       "      <td>0.000000</td>\n",
       "      <td>0.000000</td>\n",
       "      <td>0.000000</td>\n",
       "      <td>0.000000</td>\n",
       "      <td>1.000000</td>\n",
       "    </tr>\n",
       "    <tr>\n",
       "      <th>max</th>\n",
       "      <td>115.000000</td>\n",
       "      <td>1.000000</td>\n",
       "      <td>1.000000</td>\n",
       "      <td>1.000000</td>\n",
       "      <td>1.000000</td>\n",
       "      <td>4.000000</td>\n",
       "      <td>1.000000</td>\n",
       "    </tr>\n",
       "  </tbody>\n",
       "</table>\n",
       "</div>"
      ],
      "text/plain": [
       "                 Age    Scholarship   Hipertension       Diabetes  \\\n",
       "count  110527.000000  110527.000000  110527.000000  110527.000000   \n",
       "mean       37.088874       0.098266       0.197246       0.071865   \n",
       "std        23.110205       0.297675       0.397921       0.258265   \n",
       "min        -1.000000       0.000000       0.000000       0.000000   \n",
       "25%        18.000000       0.000000       0.000000       0.000000   \n",
       "50%        37.000000       0.000000       0.000000       0.000000   \n",
       "75%        55.000000       0.000000       0.000000       0.000000   \n",
       "max       115.000000       1.000000       1.000000       1.000000   \n",
       "\n",
       "          Alcoholism        Handcap   SMS_received  \n",
       "count  110527.000000  110527.000000  110527.000000  \n",
       "mean        0.030400       0.022248       0.321026  \n",
       "std         0.171686       0.161543       0.466873  \n",
       "min         0.000000       0.000000       0.000000  \n",
       "25%         0.000000       0.000000       0.000000  \n",
       "50%         0.000000       0.000000       0.000000  \n",
       "75%         0.000000       0.000000       1.000000  \n",
       "max         1.000000       4.000000       1.000000  "
      ]
     },
     "execution_count": 10,
     "metadata": {},
     "output_type": "execute_result"
    }
   ],
   "source": [
    "df.describe()"
   ]
  },
  {
   "cell_type": "markdown",
   "id": "281ff5f5",
   "metadata": {},
   "source": [
    "Since all the column names are not uniform I will convert all the column names to lowercase and replace '-' with '_'"
   ]
  },
  {
   "cell_type": "code",
   "execution_count": 11,
   "id": "ce5f52de",
   "metadata": {},
   "outputs": [],
   "source": [
    "df.rename(columns=lambda x: x.strip().lower().replace(\"-\", \"_\"), inplace=True)"
   ]
  },
  {
   "cell_type": "code",
   "execution_count": 12,
   "id": "26fb2eff",
   "metadata": {},
   "outputs": [
    {
     "data": {
      "text/html": [
       "<div>\n",
       "<style scoped>\n",
       "    .dataframe tbody tr th:only-of-type {\n",
       "        vertical-align: middle;\n",
       "    }\n",
       "\n",
       "    .dataframe tbody tr th {\n",
       "        vertical-align: top;\n",
       "    }\n",
       "\n",
       "    .dataframe thead th {\n",
       "        text-align: right;\n",
       "    }\n",
       "</style>\n",
       "<table border=\"1\" class=\"dataframe\">\n",
       "  <thead>\n",
       "    <tr style=\"text-align: right;\">\n",
       "      <th></th>\n",
       "      <th>gender</th>\n",
       "      <th>age</th>\n",
       "      <th>neighbourhood</th>\n",
       "      <th>scholarship</th>\n",
       "      <th>hipertension</th>\n",
       "      <th>diabetes</th>\n",
       "      <th>alcoholism</th>\n",
       "      <th>handcap</th>\n",
       "      <th>sms_received</th>\n",
       "      <th>no_show</th>\n",
       "    </tr>\n",
       "  </thead>\n",
       "  <tbody>\n",
       "    <tr>\n",
       "      <th>0</th>\n",
       "      <td>F</td>\n",
       "      <td>62</td>\n",
       "      <td>JARDIM DA PENHA</td>\n",
       "      <td>0</td>\n",
       "      <td>1</td>\n",
       "      <td>0</td>\n",
       "      <td>0</td>\n",
       "      <td>0</td>\n",
       "      <td>0</td>\n",
       "      <td>No</td>\n",
       "    </tr>\n",
       "  </tbody>\n",
       "</table>\n",
       "</div>"
      ],
      "text/plain": [
       "  gender  age    neighbourhood  scholarship  hipertension  diabetes  \\\n",
       "0      F   62  JARDIM DA PENHA            0             1         0   \n",
       "\n",
       "   alcoholism  handcap  sms_received no_show  \n",
       "0           0        0             0      No  "
      ]
     },
     "execution_count": 12,
     "metadata": {},
     "output_type": "execute_result"
    }
   ],
   "source": [
    "df.head(1)"
   ]
  },
  {
   "cell_type": "markdown",
   "id": "0642ecf8",
   "metadata": {},
   "source": [
    "to make it easier to find rows of people that showed up I im going to create mask to hold the information "
   ]
  },
  {
   "cell_type": "code",
   "execution_count": 13,
   "id": "f9880cf5",
   "metadata": {},
   "outputs": [],
   "source": [
    "present = df.no_show == 'No'\n",
    "absent = df.no_show == 'Yes'"
   ]
  },
  {
   "cell_type": "code",
   "execution_count": 14,
   "id": "e1c27339",
   "metadata": {},
   "outputs": [
    {
     "data": {
      "image/png": "[encoded data removed]",
      "text/plain": [
       "<Figure size 1080x1080 with 9 Axes>"
      ]
     },
     "metadata": {
      "needs_background": "light"
     },
     "output_type": "display_data"
    }
   ],
   "source": [
    "df.hist(figsize=(15,15));"
   ]
  },
  {
   "cell_type": "markdown",
   "id": "e14cc474",
   "metadata": {},
   "source": [
    "to check whether age was a factor in people showing "
   ]
  },
  {
   "cell_type": "code",
   "execution_count": 15,
   "id": "5379e890",
   "metadata": {},
   "outputs": [
    {
     "data": {
      "text/plain": [
       "37.790064393252315"
      ]
     },
     "execution_count": 15,
     "metadata": {},
     "output_type": "execute_result"
    }
   ],
   "source": [
    "#getting the columns \n",
    "df.age[present].mean()"
   ]
  },
  {
   "cell_type": "code",
   "execution_count": 16,
   "id": "450bb711",
   "metadata": {},
   "outputs": [
    {
     "data": {
      "text/plain": [
       "34.31766656212196"
      ]
     },
     "execution_count": 16,
     "metadata": {},
     "output_type": "execute_result"
    }
   ],
   "source": [
    "df.age[absent].mean()"
   ]
  },
  {
   "cell_type": "markdown",
   "id": "8911b3fe",
   "metadata": {},
   "source": [
    "Looking at the mean ages you could see that the mean age ffor the patients who showed is slightly higher than the mean age of the people who didnt show.Showing that people of old age wer more likely to show for their appoinments.\n",
    "Im going to plot a graph to show the findings visually "
   ]
  },
  {
   "cell_type": "code",
   "execution_count": 17,
   "id": "4384e35a",
   "metadata": {},
   "outputs": [
    {
     "data": {
      "image/png": "[encoded data removed]",
      "text/plain": [
       "<Figure size 432x288 with 1 Axes>"
      ]
     },
     "metadata": {
      "needs_background": "light"
     },
     "output_type": "display_data"
    }
   ],
   "source": [
    "df.age[present].hist(alpha=0.5, label='Showed up ')\n",
    "df.age[absent].hist(alpha=0.5, label='No Show ')\n",
    "plt.legend();"
   ]
  },
  {
   "cell_type": "markdown",
   "id": "f1f223e9",
   "metadata": {},
   "source": [
    "to check whether scholarship was a factor in people in people showing up "
   ]
  },
  {
   "cell_type": "code",
   "execution_count": 18,
   "id": "cb8f5c39",
   "metadata": {},
   "outputs": [
    {
     "data": {
      "text/plain": [
       "88208"
      ]
     },
     "execution_count": 18,
     "metadata": {},
     "output_type": "execute_result"
    }
   ],
   "source": [
    "df.scholarship[present].count()"
   ]
  },
  {
   "cell_type": "code",
   "execution_count": 19,
   "id": "725dc271",
   "metadata": {},
   "outputs": [
    {
     "data": {
      "text/plain": [
       "22319"
      ]
     },
     "execution_count": 19,
     "metadata": {},
     "output_type": "execute_result"
    }
   ],
   "source": [
    "df.scholarship[absent].count()"
   ]
  },
  {
   "cell_type": "code",
   "execution_count": 20,
   "id": "360edfdb",
   "metadata": {},
   "outputs": [
    {
     "data": {
      "image/png": "[encoded data removed]",
      "text/plain": [
       "<Figure size 432x288 with 1 Axes>"
      ]
     },
     "metadata": {
      "needs_background": "light"
     },
     "output_type": "display_data"
    }
   ],
   "source": [
    "#creating a bar chat with labels \n",
    "locations = [1, 2]\n",
    "heights = [df.scholarship[present].count(), df.scholarship[absent].count()]\n",
    "labels = ['Showed', 'No Show']\n",
    "plt.bar(locations, heights, tick_label=labels)\n",
    "plt.title('Appointment attendance with respect to Scholarships')\n",
    "plt.xlabel('Scholarships')\n",
    "plt.ylabel('Attendance');"
   ]
  },
  {
   "cell_type": "code",
   "execution_count": 21,
   "id": "b2172f69",
   "metadata": {},
   "outputs": [
    {
     "data": {
      "text/plain": [
       "gender           88208\n",
       "age              88208\n",
       "neighbourhood    88208\n",
       "scholarship      88208\n",
       "hipertension     88208\n",
       "diabetes         88208\n",
       "alcoholism       88208\n",
       "handcap          88208\n",
       "sms_received     88208\n",
       "no_show          88208\n",
       "dtype: int64"
      ]
     },
     "execution_count": 21,
     "metadata": {},
     "output_type": "execute_result"
    }
   ],
   "source": [
    "df.query('no_show == \"No\"').count()"
   ]
  },
  {
   "cell_type": "code",
   "execution_count": 22,
   "id": "61973f60",
   "metadata": {},
   "outputs": [],
   "source": [
    "schola = df.query('scholarship == 1')\n",
    "no_schola = df.query('scholarship == 0')"
   ]
  },
  {
   "cell_type": "code",
   "execution_count": 23,
   "id": "fd11009a",
   "metadata": {},
   "outputs": [
    {
     "data": {
      "text/plain": [
       "gender           10861\n",
       "age              10861\n",
       "neighbourhood    10861\n",
       "scholarship      10861\n",
       "hipertension     10861\n",
       "diabetes         10861\n",
       "alcoholism       10861\n",
       "handcap          10861\n",
       "sms_received     10861\n",
       "no_show          10861\n",
       "dtype: int64"
      ]
     },
     "execution_count": 23,
     "metadata": {},
     "output_type": "execute_result"
    }
   ],
   "source": [
    "schola.count()"
   ]
  },
  {
   "cell_type": "code",
   "execution_count": 24,
   "id": "c56ea85c",
   "metadata": {},
   "outputs": [
    {
     "data": {
      "text/plain": [
       "gender           99666\n",
       "age              99666\n",
       "neighbourhood    99666\n",
       "scholarship      99666\n",
       "hipertension     99666\n",
       "diabetes         99666\n",
       "alcoholism       99666\n",
       "handcap          99666\n",
       "sms_received     99666\n",
       "no_show          99666\n",
       "dtype: int64"
      ]
     },
     "execution_count": 24,
     "metadata": {},
     "output_type": "execute_result"
    }
   ],
   "source": [
    "no_schola.count()"
   ]
  },
  {
   "cell_type": "code",
   "execution_count": 25,
   "id": "345e42b9",
   "metadata": {},
   "outputs": [
    {
     "name": "stderr",
     "output_type": "stream",
     "text": [
      "C:\\Users\\HP\\AppData\\Local\\Temp\\ipykernel_11372\\353026059.py:1: UserWarning: Boolean Series key will be reindexed to match DataFrame index.\n",
      "  schola[present].scholarship.count()\n"
     ]
    },
    {
     "data": {
      "text/plain": [
       "8283"
      ]
     },
     "execution_count": 25,
     "metadata": {},
     "output_type": "execute_result"
    }
   ],
   "source": [
    "schola[present].scholarship.count()"
   ]
  },
  {
   "cell_type": "code",
   "execution_count": 26,
   "id": "dfae4d9e",
   "metadata": {},
   "outputs": [
    {
     "name": "stderr",
     "output_type": "stream",
     "text": [
      "C:\\Users\\HP\\AppData\\Local\\Temp\\ipykernel_11372\\349269059.py:1: UserWarning: Boolean Series key will be reindexed to match DataFrame index.\n",
      "  schola[absent].count()\n"
     ]
    },
    {
     "data": {
      "text/plain": [
       "gender           2578\n",
       "age              2578\n",
       "neighbourhood    2578\n",
       "scholarship      2578\n",
       "hipertension     2578\n",
       "diabetes         2578\n",
       "alcoholism       2578\n",
       "handcap          2578\n",
       "sms_received     2578\n",
       "no_show          2578\n",
       "dtype: int64"
      ]
     },
     "execution_count": 26,
     "metadata": {},
     "output_type": "execute_result"
    }
   ],
   "source": [
    "schola[absent].count()"
   ]
  },
  {
   "cell_type": "code",
   "execution_count": 27,
   "id": "be80d119",
   "metadata": {},
   "outputs": [
    {
     "name": "stderr",
     "output_type": "stream",
     "text": [
      "C:\\Users\\HP\\AppData\\Local\\Temp\\ipykernel_11372\\807881187.py:1: UserWarning: Boolean Series key will be reindexed to match DataFrame index.\n",
      "  no_schola[present].count()\n"
     ]
    },
    {
     "data": {
      "text/plain": [
       "gender           79925\n",
       "age              79925\n",
       "neighbourhood    79925\n",
       "scholarship      79925\n",
       "hipertension     79925\n",
       "diabetes         79925\n",
       "alcoholism       79925\n",
       "handcap          79925\n",
       "sms_received     79925\n",
       "no_show          79925\n",
       "dtype: int64"
      ]
     },
     "execution_count": 27,
     "metadata": {},
     "output_type": "execute_result"
    }
   ],
   "source": [
    "no_schola[present].count()"
   ]
  },
  {
   "cell_type": "code",
   "execution_count": 28,
   "id": "21c4628a",
   "metadata": {},
   "outputs": [
    {
     "name": "stderr",
     "output_type": "stream",
     "text": [
      "C:\\Users\\HP\\AppData\\Local\\Temp\\ipykernel_11372\\1515418267.py:1: UserWarning: Boolean Series key will be reindexed to match DataFrame index.\n",
      "  no_schola[absent].count()\n"
     ]
    },
    {
     "data": {
      "text/plain": [
       "gender           19741\n",
       "age              19741\n",
       "neighbourhood    19741\n",
       "scholarship      19741\n",
       "hipertension     19741\n",
       "diabetes         19741\n",
       "alcoholism       19741\n",
       "handcap          19741\n",
       "sms_received     19741\n",
       "no_show          19741\n",
       "dtype: int64"
      ]
     },
     "execution_count": 28,
     "metadata": {},
     "output_type": "execute_result"
    }
   ],
   "source": [
    "no_schola[absent].count()"
   ]
  },
  {
   "cell_type": "code",
   "execution_count": 30,
   "id": "186c68d3",
   "metadata": {},
   "outputs": [],
   "source": [
    "def plot(labels,bar1,bar2,xlabel,ylabel,title):\n",
    "    X = labels\n",
    "    show = bar1\n",
    "    nshow = bar2\n",
    "    X_axis = np.arange(len(X)) \n",
    "    plt.bar(X_axis - 0.2, show, 0.4, label = 'Show')\n",
    "    plt.bar(X_axis + 0.2, nshow, 0.4, label = 'No show')\n",
    "    plt.xticks(X_axis, X)\n",
    "    plt.xlabel(xlabel)\n",
    "    plt.ylabel(ylabel)\n",
    "    plt.title(title)\n",
    "    plt.legend();\n",
    "    "
   ]
  },
  {
   "cell_type": "code",
   "execution_count": null,
   "id": "3f511e3d",
   "metadata": {},
   "outputs": [],
   "source": []
  },
  {
   "cell_type": "code",
   "execution_count": 33,
   "id": "bdfa5115",
   "metadata": {},
   "outputs": [
    {
     "name": "stderr",
     "output_type": "stream",
     "text": [
      "C:\\Users\\HP\\AppData\\Local\\Temp\\ipykernel_11372\\4286497848.py:2: UserWarning: Boolean Series key will be reindexed to match DataFrame index.\n",
      "  scholarship= [schola[present].scholarship.count(),no_schola[present].scholarship.count()]\n",
      "C:\\Users\\HP\\AppData\\Local\\Temp\\ipykernel_11372\\4286497848.py:3: UserWarning: Boolean Series key will be reindexed to match DataFrame index.\n",
      "  no_scholarship = [schola[absent].scholarship.count(),no_schola[absent].scholarship.count()]\n"
     ]
    },
    {
     "data": {
      "image/png": "[encoded data removed]",
      "text/plain": [
       "<Figure size 432x288 with 1 Axes>"
      ]
     },
     "metadata": {
      "needs_background": "light"
     },
     "output_type": "display_data"
    }
   ],
   "source": [
    "labels = ['Scholarship','No Scholarship']\n",
    "scholarship= [schola[present].scholarship.count(),no_schola[present].scholarship.count()]\n",
    "no_scholarship = [schola[absent].scholarship.count(),no_schola[absent].scholarship.count()]\n",
    "xlabel=\"Groups\" \n",
    "ylabel =\"students\"\n",
    "title = \"Number\"\n",
    "\n",
    "\n",
    "plot(labels,scholarship,no_scholarship,xlabel,ylabel,title)\n"
   ]
  },
  {
   "cell_type": "code",
   "execution_count": null,
   "id": "d0852b8a",
   "metadata": {},
   "outputs": [],
   "source": []
  },
  {
   "cell_type": "markdown",
   "id": "77c08bca",
   "metadata": {},
   "source": [
    "to make the anlysis clearer i will view the above bar chart in relation to histograms "
   ]
  },
  {
   "cell_type": "code",
   "execution_count": 78,
   "id": "b9a73fe9",
   "metadata": {},
   "outputs": [
    {
     "name": "stderr",
     "output_type": "stream",
     "text": [
      "C:\\Users\\HP\\AppData\\Local\\Temp\\ipykernel_11168\\1876289554.py:2: UserWarning: Boolean Series key will be reindexed to match DataFrame index.\n",
      "  show = [schola[present].scholarship.count()/schola.scholarship.count(),no_schola[present].scholarship.count()/no_schola.scholarship.count()]\n",
      "C:\\Users\\HP\\AppData\\Local\\Temp\\ipykernel_11168\\1876289554.py:3: UserWarning: Boolean Series key will be reindexed to match DataFrame index.\n",
      "  nshow = [schola[absent].scholarship.count()/schola.scholarship.count(),no_schola[absent].scholarship.count()/no_schola.scholarship.count()]\n"
     ]
    },
    {
     "data": {
      "text/plain": [
       "<matplotlib.legend.Legend at 0x16fdcc5fdc0>"
      ]
     },
     "execution_count": 78,
     "metadata": {},
     "output_type": "execute_result"
    },
    {
     "data": {
      "image/png": "[encoded data removed]",
      "text/plain": [
       "<Figure size 432x288 with 1 Axes>"
      ]
     },
     "metadata": {
      "needs_background": "light"
     },
     "output_type": "display_data"
    }
   ],
   "source": [
    "X = ['Scholarship','No Scholarship']\n",
    "show = [schola[present].scholarship.count()/schola.scholarship.count(),no_schola[present].scholarship.count()/no_schola.scholarship.count()]\n",
    "nshow = [schola[absent].scholarship.count()/schola.scholarship.count(),no_schola[absent].scholarship.count()/no_schola.scholarship.count()]\n",
    "  \n",
    "X_axis = np.arange(len(X))\n",
    "  \n",
    "plt.bar(X_axis - 0.2, show, 0.4, label = 'Show')\n",
    "plt.bar(X_axis + 0.2, nshow, 0.4, label = 'No show')\n",
    "  \n",
    "plt.xticks(X_axis, X)\n",
    "plt.xlabel(\"Groups\")\n",
    "plt.ylabel(\"Number of Students\")\n",
    "plt.title(\"Number of Students in each group\")\n",
    "plt.legend()"
   ]
  },
  {
   "cell_type": "markdown",
   "id": "b07a6069",
   "metadata": {},
   "source": [
    "from the graph of proportions above it shows that the percentage of people with scholarships who show up for their appointmentsis less than the percentage of people without scholarships  "
   ]
  },
  {
   "cell_type": "markdown",
   "id": "e8de2854",
   "metadata": {},
   "source": [
    "#### checking if the sms motifications are also a factor for attendance "
   ]
  },
  {
   "cell_type": "code",
   "execution_count": 91,
   "id": "3fd0f802",
   "metadata": {},
   "outputs": [
    {
     "data": {
      "text/plain": [
       "array([0, 1], dtype=int64)"
      ]
     },
     "execution_count": 91,
     "metadata": {},
     "output_type": "execute_result"
    }
   ],
   "source": [
    "df['sms_received'].unique() "
   ]
  },
  {
   "cell_type": "code",
   "execution_count": 89,
   "id": "c8db353d",
   "metadata": {},
   "outputs": [
    {
     "data": {
      "text/html": [
       "<div>\n",
       "<style scoped>\n",
       "    .dataframe tbody tr th:only-of-type {\n",
       "        vertical-align: middle;\n",
       "    }\n",
       "\n",
       "    .dataframe tbody tr th {\n",
       "        vertical-align: top;\n",
       "    }\n",
       "\n",
       "    .dataframe thead th {\n",
       "        text-align: right;\n",
       "    }\n",
       "</style>\n",
       "<table border=\"1\" class=\"dataframe\">\n",
       "  <thead>\n",
       "    <tr style=\"text-align: right;\">\n",
       "      <th></th>\n",
       "      <th>gender</th>\n",
       "      <th>age</th>\n",
       "      <th>neighbourhood</th>\n",
       "      <th>scholarship</th>\n",
       "      <th>hipertension</th>\n",
       "      <th>diabetes</th>\n",
       "      <th>alcoholism</th>\n",
       "      <th>handcap</th>\n",
       "      <th>sms_received</th>\n",
       "      <th>no_show</th>\n",
       "    </tr>\n",
       "  </thead>\n",
       "  <tbody>\n",
       "    <tr>\n",
       "      <th>0</th>\n",
       "      <td>F</td>\n",
       "      <td>62</td>\n",
       "      <td>JARDIM DA PENHA</td>\n",
       "      <td>0</td>\n",
       "      <td>1</td>\n",
       "      <td>0</td>\n",
       "      <td>0</td>\n",
       "      <td>0</td>\n",
       "      <td>0</td>\n",
       "      <td>No</td>\n",
       "    </tr>\n",
       "  </tbody>\n",
       "</table>\n",
       "</div>"
      ],
      "text/plain": [
       "  gender  age    neighbourhood  scholarship  hipertension  diabetes  \\\n",
       "0      F   62  JARDIM DA PENHA            0             1         0   \n",
       "\n",
       "   alcoholism  handcap  sms_received no_show  \n",
       "0           0        0             0      No  "
      ]
     },
     "execution_count": 89,
     "metadata": {},
     "output_type": "execute_result"
    }
   ],
   "source": [
    "df.head(1)"
   ]
  },
  {
   "cell_type": "code",
   "execution_count": 133,
   "id": "74d8c155",
   "metadata": {},
   "outputs": [],
   "source": [
    "sms = df.query('sms_received == 1')\n",
    "sms = df.query('sms_received == 0')"
   ]
  },
  {
   "cell_type": "code",
   "execution_count": 134,
   "id": "a243b46a",
   "metadata": {},
   "outputs": [
    {
     "data": {
      "text/plain": [
       "gender           75045\n",
       "age              75045\n",
       "neighbourhood    75045\n",
       "scholarship      75045\n",
       "hipertension     75045\n",
       "diabetes         75045\n",
       "alcoholism       75045\n",
       "handcap          75045\n",
       "sms_received     75045\n",
       "no_show          75045\n",
       "dtype: int64"
      ]
     },
     "execution_count": 134,
     "metadata": {},
     "output_type": "execute_result"
    }
   ],
   "source": [
    "sms.count()"
   ]
  },
  {
   "cell_type": "code",
   "execution_count": 130,
   "id": "59ade706",
   "metadata": {},
   "outputs": [
    {
     "data": {
      "text/plain": [
       "gender           75045\n",
       "age              75045\n",
       "neighbourhood    75045\n",
       "scholarship      75045\n",
       "hipertension     75045\n",
       "diabetes         75045\n",
       "alcoholism       75045\n",
       "handcap          75045\n",
       "sms_received     75045\n",
       "no_show          75045\n",
       "dtype: int64"
      ]
     },
     "execution_count": 130,
     "metadata": {},
     "output_type": "execute_result"
    }
   ],
   "source": [
    "no_sms.count()"
   ]
  },
  {
   "cell_type": "code",
   "execution_count": 137,
   "id": "f8b5456e",
   "metadata": {},
   "outputs": [
    {
     "name": "stderr",
     "output_type": "stream",
     "text": [
      "C:\\Users\\HP\\AppData\\Local\\Temp\\ipykernel_11168\\4153537879.py:1: UserWarning: Boolean Series key will be reindexed to match DataFrame index.\n",
      "  sms[present].count()\n"
     ]
    },
    {
     "data": {
      "text/plain": [
       "gender           62510\n",
       "age              62510\n",
       "neighbourhood    62510\n",
       "scholarship      62510\n",
       "hipertension     62510\n",
       "diabetes         62510\n",
       "alcoholism       62510\n",
       "handcap          62510\n",
       "sms_received     62510\n",
       "no_show          62510\n",
       "dtype: int64"
      ]
     },
     "execution_count": 137,
     "metadata": {},
     "output_type": "execute_result"
    }
   ],
   "source": [
    "sms[present].count()"
   ]
  },
  {
   "cell_type": "code",
   "execution_count": 106,
   "id": "ad49f7a1",
   "metadata": {},
   "outputs": [
    {
     "name": "stderr",
     "output_type": "stream",
     "text": [
      "C:\\Users\\HP\\AppData\\Local\\Temp\\ipykernel_11168\\2136774000.py:1: UserWarning: Boolean Series key will be reindexed to match DataFrame index.\n",
      "  sms[absent].count()\n"
     ]
    },
    {
     "data": {
      "text/plain": [
       "gender           9784\n",
       "age              9784\n",
       "neighbourhood    9784\n",
       "scholarship      9784\n",
       "hipertension     9784\n",
       "diabetes         9784\n",
       "alcoholism       9784\n",
       "handcap          9784\n",
       "sms_received     9784\n",
       "no_show          9784\n",
       "dtype: int64"
      ]
     },
     "execution_count": 106,
     "metadata": {},
     "output_type": "execute_result"
    }
   ],
   "source": [
    "sms[absent].count()"
   ]
  },
  {
   "cell_type": "code",
   "execution_count": 138,
   "id": "000b1cdd",
   "metadata": {},
   "outputs": [
    {
     "name": "stderr",
     "output_type": "stream",
     "text": [
      "C:\\Users\\HP\\AppData\\Local\\Temp\\ipykernel_11168\\3415912113.py:1: UserWarning: Boolean Series key will be reindexed to match DataFrame index.\n",
      "  no_sms[absent].count()\n"
     ]
    },
    {
     "data": {
      "text/plain": [
       "gender           12535\n",
       "age              12535\n",
       "neighbourhood    12535\n",
       "scholarship      12535\n",
       "hipertension     12535\n",
       "diabetes         12535\n",
       "alcoholism       12535\n",
       "handcap          12535\n",
       "sms_received     12535\n",
       "no_show          12535\n",
       "dtype: int64"
      ]
     },
     "execution_count": 138,
     "metadata": {},
     "output_type": "execute_result"
    }
   ],
   "source": [
    "no_sms[absent].count()"
   ]
  },
  {
   "cell_type": "code",
   "execution_count": 140,
   "id": "9a083194",
   "metadata": {},
   "outputs": [
    {
     "name": "stderr",
     "output_type": "stream",
     "text": [
      "C:\\Users\\HP\\AppData\\Local\\Temp\\ipykernel_11168\\2321109574.py:1: UserWarning: Boolean Series key will be reindexed to match DataFrame index.\n",
      "  no_sms[present].count()\n"
     ]
    },
    {
     "data": {
      "text/plain": [
       "gender           62510\n",
       "age              62510\n",
       "neighbourhood    62510\n",
       "scholarship      62510\n",
       "hipertension     62510\n",
       "diabetes         62510\n",
       "alcoholism       62510\n",
       "handcap          62510\n",
       "sms_received     62510\n",
       "no_show          62510\n",
       "dtype: int64"
      ]
     },
     "execution_count": 140,
     "metadata": {},
     "output_type": "execute_result"
    }
   ],
   "source": [
    "no_sms[present].count()"
   ]
  },
  {
   "cell_type": "code",
   "execution_count": 142,
   "id": "e86f6a64",
   "metadata": {},
   "outputs": [
    {
     "name": "stderr",
     "output_type": "stream",
     "text": [
      "C:\\Users\\HP\\AppData\\Local\\Temp\\ipykernel_11168\\3355570209.py:2: UserWarning: Boolean Series key will be reindexed to match DataFrame index.\n",
      "  show = [sms[present].sms_received.count(),no_sms[present].sms_received.count()]\n",
      "C:\\Users\\HP\\AppData\\Local\\Temp\\ipykernel_11168\\3355570209.py:3: UserWarning: Boolean Series key will be reindexed to match DataFrame index.\n",
      "  nshow = [sms[absent].sms_received.count(),no_sms[absent].sms_received.count()]\n"
     ]
    },
    {
     "data": {
      "text/plain": [
       "<matplotlib.legend.Legend at 0x16fde81bb20>"
      ]
     },
     "execution_count": 142,
     "metadata": {},
     "output_type": "execute_result"
    },
    {
     "data": {
      "image/png": "[encoded data removed]",
      "text/plain": [
       "<Figure size 432x288 with 1 Axes>"
      ]
     },
     "metadata": {
      "needs_background": "light"
     },
     "output_type": "display_data"
    }
   ],
   "source": [
    "X = ['SMS','No SMS']\n",
    "show = [sms[present].sms_received.count(),no_sms[present].sms_received.count()]\n",
    "nshow = [sms[absent].sms_received.count(),no_sms[absent].sms_received.count()]\n",
    "  \n",
    "X_axis = np.arange(len(X))\n",
    "  \n",
    "plt.bar(X_axis - 0.2, show, 0.4, label = 'Show')\n",
    "plt.bar(X_axis + 0.2, nshow, 0.4, label = 'No show')\n",
    "  \n",
    "plt.xticks(X_axis, X)\n",
    "plt.xlabel(\"Groups\")\n",
    "plt.ylabel(\"Number of Students\")\n",
    "plt.title(\"Number of Students in each group\")\n",
    "plt.legend()"
   ]
  },
  {
   "cell_type": "markdown",
   "id": "9331a49c",
   "metadata": {},
   "source": [
    "using proportions "
   ]
  },
  {
   "cell_type": "code",
   "execution_count": 1,
   "id": "ff3838b1",
   "metadata": {},
   "outputs": [
    {
     "ename": "NameError",
     "evalue": "name 'sms' is not defined",
     "output_type": "error",
     "traceback": [
      "\u001b[1;31m---------------------------------------------------------------------------\u001b[0m",
      "\u001b[1;31mNameError\u001b[0m                                 Traceback (most recent call last)",
      "Input \u001b[1;32mIn [1]\u001b[0m, in \u001b[0;36m<cell line: 2>\u001b[1;34m()\u001b[0m\n\u001b[0;32m      1\u001b[0m X \u001b[38;5;241m=\u001b[39m [\u001b[38;5;124m'\u001b[39m\u001b[38;5;124mSMS\u001b[39m\u001b[38;5;124m'\u001b[39m,\u001b[38;5;124m'\u001b[39m\u001b[38;5;124mNo SMS\u001b[39m\u001b[38;5;124m'\u001b[39m]\n\u001b[1;32m----> 2\u001b[0m show \u001b[38;5;241m=\u001b[39m [\u001b[43msms\u001b[49m[present]\u001b[38;5;241m.\u001b[39msms_received\u001b[38;5;241m.\u001b[39mcount()\u001b[38;5;241m/\u001b[39msms\u001b[38;5;241m.\u001b[39msms_received\u001b[38;5;241m.\u001b[39mcount(),no_sms[present]\u001b[38;5;241m.\u001b[39msms_received\u001b[38;5;241m.\u001b[39mcount()\u001b[38;5;241m/\u001b[39mno_sms\u001b[38;5;241m.\u001b[39msms_received\u001b[38;5;241m.\u001b[39mcount()]\n\u001b[0;32m      3\u001b[0m nshow \u001b[38;5;241m=\u001b[39m [sms[absent]\u001b[38;5;241m.\u001b[39msms_received\u001b[38;5;241m.\u001b[39mcount()\u001b[38;5;241m/\u001b[39msms\u001b[38;5;241m.\u001b[39msms_received\u001b[38;5;241m.\u001b[39mcount(),no_sms[absent]\u001b[38;5;241m.\u001b[39msms_received\u001b[38;5;241m.\u001b[39mcount()\u001b[38;5;241m/\u001b[39mno_sms\u001b[38;5;241m.\u001b[39msms_received\u001b[38;5;241m.\u001b[39mcount()]\n\u001b[0;32m      5\u001b[0m X_axis \u001b[38;5;241m=\u001b[39m np\u001b[38;5;241m.\u001b[39marange(\u001b[38;5;28mlen\u001b[39m(X))\n",
      "\u001b[1;31mNameError\u001b[0m: name 'sms' is not defined"
     ]
    }
   ],
   "source": [
    "X = ['SMS','No SMS']\n",
    "show = [sms[present].sms_received.count()/sms.sms_received.count(),no_sms[present].sms_received.count()/no_sms.sms_received.count()]\n",
    "nshow = [sms[absent].sms_received.count()/sms.sms_received.count(),no_sms[absent].sms_received.count()/no_sms.sms_received.count()]\n",
    "  \n",
    "X_axis = np.arange(len(X))\n",
    "  \n",
    "plt.bar(X_axis - 0.2, show, 0.4, label = 'Show')\n",
    "plt.bar(X_axis + 0.2, nshow, 0.4, label = 'No show')\n",
    "  \n",
    "plt.xticks(X_axis, X)\n",
    "plt.xlabel(\"Groups\")\n",
    "plt.ylabel(\"Number of Students\")\n",
    "plt.title(\"Number of Students in each group\")\n",
    "plt.legend()"
   ]
  },
  {
   "cell_type": "code",
   "execution_count": null,
   "id": "56c9443d",
   "metadata": {},
   "outputs": [],
   "source": []
  }
 ],
 "metadata": {
  "kernelspec": {
   "display_name": "Python 3 (ipykernel)",
   "language": "python",
   "name": "python3"
  },
  "language_info": {
   "codemirror_mode": {
    "name": "ipython",
    "version": 3
   },
   "file_extension": ".py",
   "mimetype": "text/x-python",
   "name": "python",
   "nbconvert_exporter": "python",
   "pygments_lexer": "ipython3",
   "version": "3.9.12"
  }
 },
 "nbformat": 4,
 "nbformat_minor": 5
}
